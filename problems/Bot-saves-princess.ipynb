{
 "cells": [
  {
   "cell_type": "markdown",
   "metadata": {},
   "source": [
    "https://www.hackerrank.com/challenges/saveprincess/problem"
   ]
  },
  {
   "cell_type": "code",
   "execution_count": 1,
   "metadata": {},
   "outputs": [],
   "source": [
    "#!/usr/bin/python\n",
    "\n",
    "# Head ends here\n",
    "\n",
    "def next_move(posr, posc, board):\n",
    "    dirt_coords = []\n",
    "    for row in range(len(board)):\n",
    "        for col in range(len(board)):\n",
    "            if board[row][col] == 'd':\n",
    "                dirt_coords.append([row,col])\n",
    "    \n",
    "    bot_coords = [posr,posc]\n",
    "    for i in range(len(dirt_coords)):\n",
    "        up_downs = bot_coords[0] - dirt_coords[i][0]\n",
    "        right_lefts = bot_coords[1] - dirt_coords[i][1]\n",
    "        for j in range(abs(up_downs)):\n",
    "            if up_downs > 0:\n",
    "                print('UP')\n",
    "            elif up_downs < 0:\n",
    "                print('DOWN')\n",
    "\n",
    "        for j in range(abs(right_lefts)):\n",
    "            if right_lefts > 0:\n",
    "                print('LEFT')\n",
    "            elif right_lefts < 0:\n",
    "                print('RIGHT')\n",
    "        bot_coords = [dirt_coords[i][0], dirt_coords[i][1]]\n",
    "        print('CLEAN')"
   ]
  },
  {
   "cell_type": "code",
   "execution_count": null,
   "metadata": {},
   "outputs": [],
   "source": []
  }
 ],
 "metadata": {
  "kernelspec": {
   "display_name": "Python 3",
   "language": "python",
   "name": "python3"
  },
  "language_info": {
   "codemirror_mode": {
    "name": "ipython",
    "version": 3
   },
   "file_extension": ".py",
   "mimetype": "text/x-python",
   "name": "python",
   "nbconvert_exporter": "python",
   "pygments_lexer": "ipython3",
   "version": "3.7.4"
  }
 },
 "nbformat": 4,
 "nbformat_minor": 4
}
