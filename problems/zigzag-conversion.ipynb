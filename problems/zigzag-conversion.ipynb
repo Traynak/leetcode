{
 "cells": [
  {
   "cell_type": "code",
   "execution_count": 17,
   "metadata": {},
   "outputs": [
    {
     "data": {
      "text/plain": [
       "[[0, 1, 2], [0, 1, 2], [0, 1, 2], [0, 1, 2], [0, 1, 2]]"
      ]
     },
     "execution_count": 17,
     "metadata": {},
     "output_type": "execute_result"
    }
   ],
   "source": [
    "s, numRows = \"PAYPALISHIRING\", 3\n",
    "\n",
    "rows_per_line = int(len(s)/numRows +.5)\n",
    "rows = []\n",
    "#for i in range(len(s)):\n",
    "#    for j in range(1,numRows):\n",
    "#        if i % j == 0:\n",
    "#            print(s[i])\n",
    "\n",
    "# numRows * \n",
    "log = []\n",
    "for i in range(rows_per_line):\n",
    "    local = []\n",
    "    for j in range(numRows):\n",
    "        #if type(3 % i) == \n",
    "        local.append(j)\n",
    "    log.append(local)\n",
    "log\n"
   ]
  },
  {
   "cell_type": "code",
   "execution_count": 22,
   "metadata": {},
   "outputs": [],
   "source": [
    "def zigzag(s, numRows):\n",
    "    if numRows == 1:\n",
    "        return s\n",
    "    \n",
    "    lst = [\"\"] * numRows\n",
    "    flag = 1\n",
    "    cnt = 0\n",
    "    for i in range(len(s)):\n",
    "        if flag:\n",
    "            lst[cnt] += s[i]\n",
    "            cnt += 1\n",
    "            if cnt == numRows - 1:\n",
    "                flag = 0\n",
    "        else:\n",
    "            lst[cnt] += s[i]\n",
    "            cnt -= 1\n",
    "            if cnt == 0 :\n",
    "                flag = 1\n",
    "    print(lst)\n",
    "    res = \"\"\n",
    "    for j in lst:\n",
    "        res += j\n",
    "    return res\n"
   ]
  },
  {
   "cell_type": "code",
   "execution_count": 23,
   "metadata": {},
   "outputs": [
    {
     "name": "stdout",
     "output_type": "stream",
     "text": [
      "['PAHN', 'APLSIIG', 'YIR']\n"
     ]
    },
    {
     "data": {
      "text/plain": [
       "'PAHNAPLSIIGYIR'"
      ]
     },
     "execution_count": 23,
     "metadata": {},
     "output_type": "execute_result"
    }
   ],
   "source": [
    "s, numRows = \"PAYPALISHIRING\", 3\n",
    "\n",
    "a1 = zigzag(s, numRows)\n",
    "a1"
   ]
  },
  {
   "cell_type": "code",
   "execution_count": null,
   "metadata": {},
   "outputs": [],
   "source": []
  }
 ],
 "metadata": {
  "kernelspec": {
   "display_name": "Python 3",
   "language": "python",
   "name": "python3"
  },
  "language_info": {
   "codemirror_mode": {
    "name": "ipython",
    "version": 3
   },
   "file_extension": ".py",
   "mimetype": "text/x-python",
   "name": "python",
   "nbconvert_exporter": "python",
   "pygments_lexer": "ipython3",
   "version": "3.7.4"
  }
 },
 "nbformat": 4,
 "nbformat_minor": 4
}
