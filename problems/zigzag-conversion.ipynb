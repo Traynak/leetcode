{
 "cells": [
  {
   "cell_type": "code",
   "execution_count": 11,
   "metadata": {},
   "outputs": [
    {
     "data": {
      "text/plain": [
       "[[0, 1, 2], [0, 1, 2], [0, 1, 2], [0, 1, 2], [0, 1, 2]]"
      ]
     },
     "execution_count": 11,
     "metadata": {},
     "output_type": "execute_result"
    }
   ],
   "source": [
    "s, numRows = \"PAYPALISHIRING\", 3\n",
    "\n",
    "rows_per_line = int(len(s)/numRows +.5)\n",
    "rows = []\n",
    "#for i in range(len(s)):\n",
    "#    for j in range(1,numRows):\n",
    "#        if i % j == 0:\n",
    "#            print(s[i])\n",
    "\n",
    "# numRows * \n",
    "log = []\n",
    "for i in range(rows_per_line):\n",
    "    local = []\n",
    "    for j in range(numRows):\n",
    "        local.append(j)\n",
    "    log.append(local)\n",
    "log"
   ]
  },
  {
   "cell_type": "code",
   "execution_count": null,
   "metadata": {},
   "outputs": [],
   "source": []
  }
 ],
 "metadata": {
  "kernelspec": {
   "display_name": "Python 3",
   "language": "python",
   "name": "python3"
  },
  "language_info": {
   "codemirror_mode": {
    "name": "ipython",
    "version": 3
   },
   "file_extension": ".py",
   "mimetype": "text/x-python",
   "name": "python",
   "nbconvert_exporter": "python",
   "pygments_lexer": "ipython3",
   "version": "3.7.4"
  }
 },
 "nbformat": 4,
 "nbformat_minor": 4
}
