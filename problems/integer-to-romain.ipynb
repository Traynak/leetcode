{
 "cells": [
  {
   "cell_type": "markdown",
   "metadata": {},
   "source": [
    "https://leetcode.com/problems/integer-to-roman/"
   ]
  },
  {
   "cell_type": "markdown",
   "metadata": {},
   "source": [
    "#### 6 instances where subtraction can be used:\n",
    "- I can be placed before V (5) and X (10) to make 4 and 9. \n",
    "- X can be placed before L (50) and C (100) to make 40 and 90. \n",
    "- C can be placed before D (500) and M (1000) to make 400 and 900."
   ]
  },
  {
   "cell_type": "code",
   "execution_count": 1,
   "metadata": {},
   "outputs": [
    {
     "data": {
      "text/plain": [
       "'MCMXCIV'"
      ]
     },
     "execution_count": 1,
     "metadata": {},
     "output_type": "execute_result"
    }
   ],
   "source": [
    "num = 3 #\"III\"\n",
    "num = 58 #\"LVIII\"\n",
    "num = 1994 #\"MCMXCIV\"\n",
    "lookup = {1:\"I\", 5:\"V\", 10:\"X\", 50:\"L\", 100:\"C\", 500:\"D\", 1000:\"M\"}\n",
    "subtract = {4:\"IV\", 9:\"IX\", 40:\"XL\", 90:\"XC\", 400:\"CD\", 900:\"CM\"}\n",
    "\n",
    "chars = []\n",
    "\n",
    "def get_val(num):\n",
    "    closest_num = num\n",
    "    romain = num\n",
    "        \n",
    "    # addition or subtract\n",
    "    for i in list(lookup.keys()) + list(subtract.keys()):\n",
    "        if abs(num-i) < closest_num and i in subtract.keys():\n",
    "            if num-i > 0 or num-i == 0:\n",
    "                closest_num = abs(num-i)\n",
    "                romain = i                \n",
    "        if abs(num-i) < closest_num and num-i > 0 and i in lookup.keys():\n",
    "            closest_num = abs(num-i)\n",
    "            romain = i\n",
    "        \n",
    "    chars.append(romain)\n",
    "    if closest_num == 1:\n",
    "        chars.append(1)\n",
    "        return\n",
    "    elif closest_num != 0:\n",
    "        get_val(closest_num)\n",
    "    else:\n",
    "        return\n",
    "\n",
    "\n",
    "get_val(num)\n",
    "\n",
    "full = lookup.copy()\n",
    "full.update(subtract)\n",
    "\n",
    "answer = ''.join([full[c] for c in chars])\n",
    "answer"
   ]
  },
  {
   "cell_type": "code",
   "execution_count": null,
   "metadata": {},
   "outputs": [],
   "source": []
  }
 ],
 "metadata": {
  "kernelspec": {
   "display_name": "Python 3",
   "language": "python",
   "name": "python3"
  },
  "language_info": {
   "codemirror_mode": {
    "name": "ipython",
    "version": 3
   },
   "file_extension": ".py",
   "mimetype": "text/x-python",
   "name": "python",
   "nbconvert_exporter": "python",
   "pygments_lexer": "ipython3",
   "version": "3.7.4"
  }
 },
 "nbformat": 4,
 "nbformat_minor": 4
}
